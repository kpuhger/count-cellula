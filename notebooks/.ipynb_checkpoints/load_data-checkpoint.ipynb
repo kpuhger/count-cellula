{
 "cells": [
  {
   "cell_type": "code",
   "execution_count": 26,
   "metadata": {
    "collapsed": true
   },
   "outputs": [],
   "source": [
    "# Import required packages\n",
    "import skimage as sk\n",
    "import matplotlib.pyplot as plt\n",
    "from skimage import io\n",
    "%matplotlib inline"
   ]
  },
  {
   "cell_type": "code",
   "execution_count": 27,
   "metadata": {},
   "outputs": [
    {
     "name": "stdout",
     "output_type": "stream",
     "text": [
      "Enter full file path: /Users/jake/Desktop/GFP.tif\n"
     ]
    }
   ],
   "source": [
    "# prompt for file name\n",
    "img_file = input('Enter full file path: ')\n",
    "\n",
    "img_raw = sk.io.imread(img_file)"
   ]
  },
  {
   "cell_type": "code",
   "execution_count": 1,
   "metadata": {
    "collapsed": true
   },
   "outputs": [],
   "source": [
    "# Function to show images. \n",
    "# Takes image file, number of planes of the image to be shown, and a tuple/list containing the desired shape \n",
    "# of the axes array (optional)\n",
    "\n",
    "def show_image(image, nplanes, subplot_shape = None):\n",
    "    if subplot_shape == None:\n",
    "        for i in range(nplanes):\n",
    "            plt.figure()\n",
    "            plt.imshow(image[i,:,:], cmap = 'gray')\n",
    "            plt.axis('off')\n",
    "    else:\n",
    "        f, ax = plt.subplots(subplot_shape[0], subplot_shape[1], figsize = (20,20))\n",
    "        ax = ax.ravel()\n",
    "        for i in range(nplanes):\n",
    "            ax[i].imshow(img_raw[i,:,:])\n",
    "            ax[i].axis('off')\n",
    "            ax_title = str(i+1)\n",
    "            ax[i].set_title(ax_title)"
   ]
  }
 ],
 "metadata": {
  "kernelspec": {
   "display_name": "Python 3",
   "language": "python",
   "name": "python3"
  },
  "language_info": {
   "codemirror_mode": {
    "name": "ipython",
    "version": 3
   },
   "file_extension": ".py",
   "mimetype": "text/x-python",
   "name": "python",
   "nbconvert_exporter": "python",
   "pygments_lexer": "ipython3",
   "version": "3.6.1"
  }
 },
 "nbformat": 4,
 "nbformat_minor": 2
}
