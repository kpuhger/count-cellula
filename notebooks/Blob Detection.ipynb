{
 "cells": [
  {
   "cell_type": "code",
   "execution_count": 1,
   "metadata": {
    "collapsed": true
   },
   "outputs": [],
   "source": [
    "# Attempt at blob detection in 3d images\n",
    "import skimage as sk\n",
    "import numpy as np\n",
    "import matplotlib.pyplot as plt\n",
    "%matplotlib inline\n",
    "from mpl_toolkits.mplot3d import Axes3D\n",
    "from skimage import io\n",
    "from skimage import feature\n",
    "from skimage import filters\n",
    "import pandas as pd"
   ]
  },
  {
   "cell_type": "code",
   "execution_count": 67,
   "metadata": {},
   "outputs": [],
   "source": [
    "# takes image, min_sigma (affects minimum cell size found), max_sigma (affects max cell size found),\n",
    "# threshold (affects how bright cells must be to be detected)\n",
    "def detect_blobs_3dlog(image, min_sigma=10, max_sigma=20, threshold=.003):\n",
    "    for i in range(len(image)):\n",
    "        # the if statement is necessary to create the proper array on the first iteration\n",
    "        if i == 0:\n",
    "            log_cells = sk.feature.blob_log(image[0,:,:], min_sigma = min_sigma,\n",
    "                                                        max_sigma = max_sigma, threshold = threshold)\n",
    "        else:\n",
    "            log_cells = np.append(log_cells, sk.feature.blob_log(image[i,:,:], min_sigma = min_sigma,\n",
    "                                                        max_sigma = max_sigma, threshold = threshold), axis = 0)\n",
    "    return log_cells\n",
    "\n"
   ]
  }
 ],
 "metadata": {
  "kernelspec": {
   "display_name": "Python 3",
   "language": "python",
   "name": "python3"
  },
  "language_info": {
   "codemirror_mode": {
    "name": "ipython",
    "version": 3
   },
   "file_extension": ".py",
   "mimetype": "text/x-python",
   "name": "python",
   "nbconvert_exporter": "python",
   "pygments_lexer": "ipython3",
   "version": "3.6.0"
  }
 },
 "nbformat": 4,
 "nbformat_minor": 2
}
