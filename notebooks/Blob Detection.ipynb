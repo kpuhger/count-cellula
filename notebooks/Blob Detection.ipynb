{
 "cells": [
  {
   "cell_type": "code",
   "execution_count": 1,
   "metadata": {
    "collapsed": true
   },
   "outputs": [],
   "source": [
    "# Attempt at blob detection in 3d images\n",
    "import skimage as sk\n",
    "import numpy as np\n",
    "from skimage import io\n",
    "from skimage import feature\n",
    "import pandas as pd\n",
    "from scipy.spatial import distance as dist\n",
    "import scipy.cluster.hierarchy as hier\n",
    "import matplotlib.pyplot as plt\n",
    "%matplotlib inline\n",
    "\n",
    "img_file = '/Users/jwilmot/Desktop/SampleGFP.tif'\n",
    "img_raw = sk.io.imread(img_file)"
   ]
  },
  {
   "cell_type": "code",
   "execution_count": 9,
   "metadata": {
    "collapsed": true
   },
   "outputs": [],
   "source": [
    "# takes image, min_sigma (affects minimum cell size found), max_sigma (affects max cell size found),\n",
    "# threshold (affects how bright cells must be to be detected)\n",
    "\n",
    "# Laplacian of Gaussian\n",
    "def detect_blobs_3dlog(image, min_sigma=10, max_sigma=20, threshold=.003):\n",
    "    for i in range(len(image)):\n",
    "        # the if statement is necessary to create the proper array on the first iteration\n",
    "        if i == 0:\n",
    "            log_cells = sk.feature.blob_log(image[0,:,:], min_sigma = min_sigma,\n",
    "                                                        max_sigma = max_sigma, threshold = threshold)\n",
    "        else:\n",
    "            log_cells = np.append(log_cells, sk.feature.blob_log(image[i,:,:], min_sigma = min_sigma,\n",
    "                                                        max_sigma = max_sigma, threshold = threshold), axis = 0)\n",
    "    return log_cells\n",
    "\n",
    "# Determinant of Hessian\n",
    "def detect_blobs_3dhess(image, min_sigma=10, max_sigma=20, threshold=.003):\n",
    "    for i in range(len(image)):\n",
    "        # the if statement is necessary to create the proper array on the first iteration\n",
    "        if i == 0:\n",
    "            hess_cells = sk.feature.blob_doh(image[0,:,:], min_sigma = min_sigma,\n",
    "                                                        max_sigma = max_sigma, threshold = threshold)\n",
    "        else:\n",
    "            hess_cells = np.append(hess_cells, sk.feature.blob_doh(image[i,:,:], min_sigma = min_sigma,\n",
    "                                                        max_sigma = max_sigma, threshold = threshold), axis = 0)\n",
    "    return hess_cells\n",
    "\n",
    "# Difference of Gaussian\n",
    "def detect_blobs_3ddog(image, min_sigma=10, max_sigma=20, threshold=.003):\n",
    "    for i in range(len(image)):\n",
    "        # the if statement is necessary to create the proper array on the first iteration\n",
    "        if i == 0:\n",
    "            dog_cells = sk.feature.blob_dog(image[0,:,:], min_sigma = min_sigma,\n",
    "                                                        max_sigma = max_sigma, threshold = threshold)\n",
    "        else:\n",
    "            dog_cells = np.append(dog_cells, sk.feature.blob_dog(image[i,:,:], min_sigma = min_sigma,\n",
    "                                                        max_sigma = max_sigma, threshold = threshold), axis = 0)\n",
    "    return dog_cells"
   ]
  },
  {
   "cell_type": "code",
   "execution_count": 11,
   "metadata": {},
   "outputs": [
    {
     "data": {
      "text/plain": [
       "(864, 3)"
      ]
     },
     "execution_count": 11,
     "metadata": {},
     "output_type": "execute_result"
    }
   ],
   "source": [
    "# je = detect_blobs_3dlog(img_raw)\n",
    "je.shape"
   ]
  },
  {
   "cell_type": "code",
   "execution_count": 3,
   "metadata": {
    "collapsed": true
   },
   "outputs": [],
   "source": [
    "def plot_blobs(blobs, color, size_mod, fill = True):\n",
    "    for blob in blobs:\n",
    "        y, x, size = blob\n",
    "        c = plt.Circle((x, y), size*size_mod, color=color, linewidth=2, fill=fill)\n",
    "        ax.add_patch(c)\n",
    "        "
   ]
  },
  {
   "cell_type": "code",
   "execution_count": 4,
   "metadata": {
    "collapsed": true
   },
   "outputs": [],
   "source": [
    "# Function for perofrming unsupervised clustering of centroids to get a single centroid for each cell.\n",
    "# takes vector of x values, vector of y values, and the maximum distance btwn centroids that form a cluster.\n",
    "\n",
    "def cluster_centroids(x, y, max_dist):\n",
    "    xy_array = np.column_stack((x,y))\n",
    "    coordinates = pd.DataFrame(xy_array, columns = ['x','y'])\n",
    "    \n",
    "    #create matrix of distances between all centroids\n",
    "    dist_mat = dist.squareform(dist.pdist(coordinates.values))\n",
    "    \n",
    "    #perform clustering\n",
    "    link_mat = hier.linkage(dist_mat)\n",
    "    cluster_idx = hier.fcluster(link_mat, max_dist, criterion = 'distance')\n",
    "    \n",
    "    #make organized dataframe with labeled clusters\n",
    "    coordinates['new_label'] = cluster_idx\n",
    "    coordinates.set_index('new_label', drop=True, append=False, inplace=True)\n",
    "    coordinates.index.name = 'label'\n",
    "    coordinates = coordinates.sort_index()\n",
    "    \n",
    "    #compute a final centroid for each cell by averaging the x y coords of each cluster\n",
    "    coordinates = coordinates.groupby(level ='label').mean()\n",
    "    return coordinates"
   ]
  },
  {
   "cell_type": "code",
   "execution_count": 24,
   "metadata": {
    "collapsed": true
   },
   "outputs": [],
   "source": [
    "def detect_blobs_3dlog(image, min_sigma=10, max_sigma=20, threshold=.003):\n",
    "    for i in range(len(image)):\n",
    "        if i == 0:\n",
    "            log_cells = sk.feature.blob_log(image[0,:,:], min_sigma = min_sigma, max_sigma = max_sigma, \n",
    "                                            threshold = threshold)\n",
    "            log_cells = np.column_stack((log_cells, np.ones((len(log_cells)))))\n",
    "        else:\n",
    "            new_cells = sk.feature.blob_log(image[i,:,:], min_sigma = min_sigma, max_sigma = max_sigma, \n",
    "                                            threshold = threshold)\n",
    "            new_cells = np.column_stack((new_cells, np.full((len(new_cells)), i+1)))\n",
    "            log_cells = np.concatenate((log_cells, new_cells))\n",
    "    return log_cells"
   ]
  },
  {
   "cell_type": "code",
   "execution_count": 25,
   "metadata": {
    "collapsed": true
   },
   "outputs": [],
   "source": [
    " cells = detect_blobs_3dlog(img_raw)"
   ]
  },
  {
   "cell_type": "code",
   "execution_count": 26,
   "metadata": {},
   "outputs": [
    {
     "data": {
      "text/plain": [
       "(864, 4)"
      ]
     },
     "execution_count": 26,
     "metadata": {},
     "output_type": "execute_result"
    }
   ],
   "source": [
    "cells.shape"
   ]
  },
  {
   "cell_type": "code",
   "execution_count": 27,
   "metadata": {},
   "outputs": [
    {
     "data": {
      "text/plain": [
       "array([[ 540.        ,  645.        ,   15.55555556,    1.        ],\n",
       "       [ 498.        ,  560.        ,   10.        ,    1.        ],\n",
       "       [ 479.        ,  701.        ,   11.11111111,    1.        ],\n",
       "       ..., \n",
       "       [   0.        ,  107.        ,   11.11111111,   15.        ],\n",
       "       [   0.        ,   30.        ,   10.        ,   15.        ],\n",
       "       [   0.        ,    0.        ,   20.        ,   15.        ]])"
      ]
     },
     "execution_count": 27,
     "metadata": {},
     "output_type": "execute_result"
    }
   ],
   "source": [
    "cells"
   ]
  }
 ],
 "metadata": {
  "kernelspec": {
   "display_name": "Python 3",
   "language": "python",
   "name": "python3"
  },
  "language_info": {
   "codemirror_mode": {
    "name": "ipython",
    "version": 3
   },
   "file_extension": ".py",
   "mimetype": "text/x-python",
   "name": "python",
   "nbconvert_exporter": "python",
   "pygments_lexer": "ipython3",
   "version": "3.6.1"
  }
 },
 "nbformat": 4,
 "nbformat_minor": 2
}
