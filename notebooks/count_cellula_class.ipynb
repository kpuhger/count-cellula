{
 "cells": [
  {
   "cell_type": "markdown",
   "metadata": {},
   "source": [
    "## Imports"
   ]
  },
  {
   "cell_type": "code",
   "execution_count": 1,
   "metadata": {
    "collapsed": true
   },
   "outputs": [],
   "source": [
    "# Import required packages\n",
    "import skimage as sk\n",
    "\n",
    "from skimage import io, exposure, feature, filters, morphology, color, restoration, util\n",
    "\n",
    "from skimage.filters import rank, threshold_otsu, threshold_local\n",
    "from skimage.morphology import disk, watershed\n",
    "from skimage.feature import peak_local_max\n",
    "from skimage.future import graph\n",
    "from scipy import ndimage as ndi\n",
    "from scipy.spatial import distance as dist\n",
    "import scipy.cluster.hierarchy as hier\n",
    "\n",
    "import matplotlib.pyplot as plt\n",
    "%matplotlib inline\n",
    "import numpy as np\n",
    "import pandas as pd"
   ]
  },
  {
   "cell_type": "markdown",
   "metadata": {},
   "source": [
    "## Functions for selecting an image file and saving a dataframe to a CSV"
   ]
  },
  {
   "cell_type": "code",
   "execution_count": 2,
   "metadata": {
    "collapsed": true
   },
   "outputs": [],
   "source": [
    "# prompt for image\n",
    "\n",
    "def get_image():\n",
    "    img_file = input('Enter full file path: ')\n",
    "    img_raw = sk.io.imread(img_file)\n",
    "    return img_raw\n",
    "\n",
    "def save_to_file(dataframe):\n",
    "    file_name = input('Enter a file path to save to (do not include .csv):')\n",
    "    file_name = file_name + \".csv\"\n",
    "    dataframe.to_csv(file_name)"
   ]
  },
  {
   "cell_type": "markdown",
   "metadata": {},
   "source": [
    "## Visualization"
   ]
  },
  {
   "cell_type": "code",
   "execution_count": 3,
   "metadata": {
    "collapsed": true
   },
   "outputs": [],
   "source": [
    "# Function to show images. \n",
    "# Takes image file, number of planes of the image to be shown, and a tuple/list containing the desired shape \n",
    "# of the axes array (optional)\n",
    "\n",
    "def show_image(image, nplanes, subplot_shape = None):\n",
    "    if subplot_shape == None:\n",
    "        for i in range(nplanes):\n",
    "            plt.figure()\n",
    "            plt.imshow(image[i,:,:], cmap = 'gray')\n",
    "            plt.axis('off')\n",
    "    else:\n",
    "        f, ax = plt.subplots(subplot_shape[0], subplot_shape[1], figsize = (20,20))\n",
    "        ax = ax.ravel()\n",
    "        for i in range(nplanes):\n",
    "            ax[i].imshow(img_raw[i,:,:], cmap = 'gray')\n",
    "            ax[i].axis('off')\n",
    "            ax_title = str(i+1)\n",
    "            ax[i].set_title(ax_title)\n",
    "            \n",
    "def img_hist_single(image):\n",
    "\n",
    "    f, ax = plt.subplots(ncols=2, figsize=(20,10));\n",
    "    ax[0].hist(image.ravel(), bins=256)\n",
    "    ax[1].imshow(image, cmap='gray')\n",
    "    \n",
    "def img_hist_stack(image, stack):\n",
    "\n",
    "    f, ax = plt.subplots(ncols=2, figsize=(20,10));\n",
    "    ax[0].hist(image[stack,:, :].ravel(), bins=256)\n",
    "    ax[1].imshow(image[stack,:, :], cmap='gray') \n",
    "    \n",
    "# convenience function for plotting detected blobs\n",
    "def plot_blobs(blobs, color, size_mod, fill = True):\n",
    "    for blob in blobs:\n",
    "        y, x, size, z = blob\n",
    "        c = plt.Circle((x, y), size*size_mod, color=color, linewidth=2, fill=fill)\n",
    "        ax.add_patch(c)\n",
    "        \n",
    "def plot_cells_inplane(image, cells):\n",
    "    \"\"\"Convenience function for plotting the cells found in each plane on an image of that plane. \n",
    "    Takes image and cells. Cells must be pandas data frame with columns x, y, and z. Z must contain integers only.\"\"\"\n",
    "    for i in range(len(image)):\n",
    "        dat = cells[cells['z'] == i]\n",
    "        plt.figure()\n",
    "        plt.imshow(image[i, :,:])\n",
    "        plt.scatter(dat['x'], dat['y'], c='r')"
   ]
  },
  {
   "cell_type": "code",
   "execution_count": null,
   "metadata": {
    "collapsed": true
   },
   "outputs": [],
   "source": []
  }
 ],
 "metadata": {
  "kernelspec": {
   "display_name": "Python 3",
   "language": "python",
   "name": "python3"
  },
  "language_info": {
   "codemirror_mode": {
    "name": "ipython",
    "version": 3
   },
   "file_extension": ".py",
   "mimetype": "text/x-python",
   "name": "python",
   "nbconvert_exporter": "python",
   "pygments_lexer": "ipython3",
   "version": "3.6.1"
  }
 },
 "nbformat": 4,
 "nbformat_minor": 2
}
