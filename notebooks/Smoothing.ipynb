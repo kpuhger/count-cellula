{
 "cells": [
  {
   "cell_type": "code",
   "execution_count": 9,
   "metadata": {
    "collapsed": true
   },
   "outputs": [],
   "source": [
    "# Notebook containing functions for blurring/smoothing multi-plane images.\n",
    "# Imports\n",
    "import skimage as sk\n",
    "from skimage import io\n",
    "from skimage import feature\n",
    "from skimage import filters\n",
    "from skimage.morphology import disk\n",
    "import numpy as np\n",
    "import matplotlib.pyplot as plt\n",
    "%matplotlib inline"
   ]
  },
  {
   "cell_type": "code",
   "execution_count": 10,
   "metadata": {
    "collapsed": true
   },
   "outputs": [],
   "source": [
    "# Mean blur. Increased disk_size = more smoothing\n",
    "def mean_blur(image, disk_size):\n",
    "    img_meanfilt = np.empty_like(image)\n",
    "    for i in range(len(image)):\n",
    "        img_meanfilt[i,:,:] = filters.rank.mean(image[i,:,:], disk(disk_size))\n",
    "    return img_meanfilt"
   ]
  },
  {
   "cell_type": "code",
   "execution_count": 11,
   "metadata": {
    "collapsed": true
   },
   "outputs": [],
   "source": [
    "# Median blur. Increased disk_size = more smoothing\n",
    "def median_blur(image, disk_size):\n",
    "    img_medianfilt = np.empty_like(image)\n",
    "    for i in range(len(image)):\n",
    "        img_medianfilt[i,:,:] = filters.rank.median(image[i,:,:], disk(disk_size))\n",
    "    return img_medianfilt\n"
   ]
  },
  {
   "cell_type": "code",
   "execution_count": 12,
   "metadata": {
    "collapsed": true
   },
   "outputs": [],
   "source": [
    "# Gaussian blur. Increased sigma = more smoothing\n",
    "def gaussian_blur(image, sigma):\n",
    "    # must convert image to float for this to work in a loop (unknown reason)\n",
    "    image = (image*1.0)/255.0\n",
    "    img_gaussian = np.empty_like(image)\n",
    "    for i in range(len(image)):\n",
    "        img_gaussian[i,:,:] = filters.gaussian(image[i,:,:], sigma)\n",
    "    return img_gaussian"
   ]
  }
 ],
 "metadata": {
  "kernelspec": {
   "display_name": "Python 3",
   "language": "python",
   "name": "python3"
  },
  "language_info": {
   "codemirror_mode": {
    "name": "ipython",
    "version": 3
   },
   "file_extension": ".py",
   "mimetype": "text/x-python",
   "name": "python",
   "nbconvert_exporter": "python",
   "pygments_lexer": "ipython3",
   "version": "3.6.1"
  }
 },
 "nbformat": 4,
 "nbformat_minor": 2
}
